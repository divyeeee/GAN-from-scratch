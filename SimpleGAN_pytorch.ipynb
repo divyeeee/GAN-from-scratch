{
  "nbformat": 4,
  "nbformat_minor": 0,
  "metadata": {
    "colab": {
      "provenance": [],
      "include_colab_link": true
    },
    "kernelspec": {
      "name": "python3",
      "display_name": "Python 3"
    },
    "language_info": {
      "name": "python"
    }
  },
  "cells": [
    {
      "cell_type": "markdown",
      "metadata": {
        "id": "view-in-github",
        "colab_type": "text"
      },
      "source": [
        "<a href=\"https://colab.research.google.com/github/divyeeee/GAN-from-scratch/blob/main/SimpleGAN_pytorch.ipynb\" target=\"_parent\"><img src=\"https://colab.research.google.com/assets/colab-badge.svg\" alt=\"Open In Colab\"/></a>"
      ]
    },
    {
      "cell_type": "markdown",
      "source": [],
      "metadata": {
        "id": "6V3E9i7apvIG"
      }
    },
    {
      "cell_type": "code",
      "execution_count": null,
      "metadata": {
        "id": "PyiTpiVaKuHT"
      },
      "outputs": [],
      "source": [
        "!pip install pytorch-lightning"
      ]
    },
    {
      "cell_type": "code",
      "source": [
        "import os\n",
        "\n",
        "import torch\n",
        "import torchvision\n",
        "import torch.nn as nn\n",
        "import torch.optim as optim\n",
        "import torch.nn.functional as F\n",
        "import torchvision.datasets as datasets\n",
        "import torchvision.transforms as transforms\n",
        "from torch.utils.data import DataLoader, random_split\n",
        "from torchvision.datasets import MNIST\n",
        "\n",
        "import matplotlib.pyplot as plt\n",
        "\n",
        "import pytorch_lightning as pl\n",
        "\n",
        "\n",
        "random_seed = 42\n",
        "torch.manual_seed(random_seed)\n",
        "\n",
        "BATCH_SIZE=128\n",
        "AVAIL_GPUS = min(1, torch.cuda.device_count())\n",
        "NUM_WORKERS=int(os.cpu_count() / 2)"
      ],
      "metadata": {
        "id": "zcwy4eyFLPz0"
      },
      "execution_count": null,
      "outputs": []
    },
    {
      "cell_type": "code",
      "source": [
        "class MNISTDataModule(pl.LightningDataModule):\n",
        "    def __init__(self, data_dir=\"./data\",\n",
        "                 batch_size=BATCH_SIZE, num_workers=NUM_WORKERS):\n",
        "        super().__init__()\n",
        "        self.data_dir = data_dir\n",
        "        self.batch_size = batch_size\n",
        "        self.num_workers = num_workers\n",
        "\n",
        "        self.transform = transforms.Compose(\n",
        "            [\n",
        "                transforms.ToTensor(),\n",
        "                transforms.Normalize((0.1307,), (0.3081,)),\n",
        "            ]\n",
        "        )\n",
        "\n",
        "    def prepare_data(self):\n",
        "        MNIST(self.data_dir, train=True, download=True)\n",
        "        MNIST(self.data_dir, train=False, download=True)\n",
        "\n",
        "    def setup(self, stage=None):\n",
        "        # Assign train/val datasets\n",
        "        if stage == \"fit\" or stage is None:\n",
        "            mnist_full = MNIST(self.data_dir, train=True, transform=self.transform)\n",
        "            self.mnist_train, self.mnist_val = random_split(mnist_full, [55000, 5000])\n",
        "\n",
        "        # Assign test dataset\n",
        "        if stage == \"test\" or stage is None:\n",
        "            self.mnist_test = MNIST(self.data_dir, train=False, transform=self.transform)\n",
        "\n",
        "    def train_dataloader(self):\n",
        "        return DataLoader(self.mnist_train, batch_size=self.batch_size, num_workers=self.num_workers)\n",
        "\n",
        "    def val_dataloader(self):\n",
        "        return DataLoader(self.mnist_val, batch_size=self.batch_size, num_workers=self.num_workers)\n",
        "\n",
        "    def test_dataloader(self):\n",
        "        return DataLoader(self.mnist_test, batch_size=self.batch_size, num_workers=self.num_workers)"
      ],
      "metadata": {
        "id": "IifHZX-vLVEN"
      },
      "execution_count": null,
      "outputs": []
    },
    {
      "cell_type": "code",
      "source": [
        "# Detective: fake or no fake -> 1 output [0, 1]\n",
        "class Discriminator(nn.Module):\n",
        "    def __init__(self):\n",
        "        super().__init__()\n",
        "        # Simple CNN\n",
        "        self.conv1 = nn.Conv2d(1, 10, kernel_size=5)\n",
        "        self.conv2 = nn.Conv2d(10, 20, kernel_size=5)\n",
        "        self.conv2_drop = nn.Dropout2d()\n",
        "        self.fc1 = nn.Linear(320, 50)\n",
        "        self.fc2 = nn.Linear(50, 1)\n",
        "\n",
        "    def forward(self, x):\n",
        "        x = F.relu(F.max_pool2d(self.conv1(x), 2))\n",
        "        x = F.relu(F.max_pool2d(self.conv2_drop(self.conv2(x)), 2))\n",
        "        # Flatten the tensor so it can be fed into the FC layers\n",
        "        x = x.view(-1, 320)\n",
        "        x = F.relu(self.fc1(x))\n",
        "        x = F.dropout(x, training=self.training)\n",
        "        x = self.fc2(x)\n",
        "        return torch.sigmoid(x)"
      ],
      "metadata": {
        "id": "pa0rSLKuLrf1"
      },
      "execution_count": null,
      "outputs": []
    },
    {
      "cell_type": "code",
      "source": [
        "# Generate Fake Data: output like real data [1, 28, 28] and values -1, 1\n",
        "class Generator(nn.Module):\n",
        "    def __init__(self, latent_dim):\n",
        "        super().__init__()\n",
        "        self.lin1 = nn.Linear(latent_dim, 7*7*64)  # [n, 256, 7, 7]\n",
        "        self.ct1 = nn.ConvTranspose2d(64, 32, 4, stride=2) # [n, 64, 16, 16]\n",
        "        self.ct2 = nn.ConvTranspose2d(32, 16, 4, stride=2) # [n, 16, 34, 34]\n",
        "        self.conv = nn.Conv2d(16, 1, kernel_size=7)  # [n, 1, 28, 28]\n",
        "\n",
        "    def forward(self, x):\n",
        "        # Pass latent space input into linear layer and reshape\n",
        "        x = self.lin1(x)\n",
        "        x = F.leaky_relu(x)\n",
        "        x = x.view(-1, 64, 7, 7)  #256\n",
        "\n",
        "        # Upsample (transposed conv) 16x16 (64 feature maps)\n",
        "        x = self.ct1(x)\n",
        "        x = F.relu(x)\n",
        "\n",
        "        # Upsample to 34x34 (16 feature maps)\n",
        "        x = self.ct2(x)\n",
        "        x = F.relu(x)\n",
        "\n",
        "        # Convolution to 28x28 (1 feature map)\n",
        "        return self.conv(x)"
      ],
      "metadata": {
        "id": "JFa6X5ELLdFJ"
      },
      "execution_count": null,
      "outputs": []
    },
    {
      "cell_type": "code",
      "source": [
        "# TODO: GAN\n",
        "class GAN(pl.LightningModule):\n",
        "  def __init__(self, automatic_optimization = False,latent_dim=100,lr=0.0002):\n",
        "    super().__init__()\n",
        "    self.save_hyperparameters()\n",
        "    self.automatic_optimization = False  # Disable automatic optimization\n",
        "\n",
        "    self.generator = Generator(latent_dim=self.hparams.latent_dim)\n",
        "    self.discriminator=Discriminator()\n",
        "\n",
        "    # random noise\n",
        "    self.validation_z = torch.randn(6, self.hparams.latent_dim)\n",
        "\n",
        "  def forward(self, z):\n",
        "    return self.generator(z)\n",
        "\n",
        "  def adversarial_loss(self,y_hat,y):\n",
        "    return F.binary_cross_entropy(y_hat,y)\n",
        "\n",
        "  def training_step(self,batch,batch_idx): # Remove optimizer_idx\n",
        "    # Access your optimizers with\n",
        "    opt_g, opt_d = self.optimizers()\n",
        "\n",
        "    real_imgs,_=batch\n",
        "\n",
        "    # sample noise\n",
        "    z=torch.randn(real_imgs.shape[0],self.hparams.latent_dim)\n",
        "    z = z.type_as(real_imgs)\n",
        "\n",
        "    # train generator : max log(D(G(z)))\n",
        "    fake_imgs = self(z)\n",
        "    y_hat = self.discriminator(fake_imgs)\n",
        "\n",
        "    y=torch.ones(real_imgs.size(0),1)\n",
        "    y=y.type_as(real_imgs)\n",
        "\n",
        "    g_loss = self.adversarial_loss(y_hat,y)\n",
        "\n",
        "    # Manual optimization for generator\n",
        "    opt_g.zero_grad()\n",
        "    self.manual_backward(g_loss) # Use manual_backward to calculate gradients\n",
        "    opt_g.step()\n",
        "\n",
        "    log_dict = {\"g_loss\": g_loss}\n",
        "\n",
        "\n",
        "    # train discriminator:max log (D(x)) + log(1-D(G(z)))\n",
        "    # how well can it label as real\n",
        "    y_hat_real = self.discriminator(real_imgs)\n",
        "    y_real = torch.ones(real_imgs.size(0),1)\n",
        "    y_real = y_real.type_as(real_imgs)\n",
        "    real_loss = self.adversarial_loss(y_hat_real,y_real)\n",
        "    y_hat_fake = self.discriminator(self(z).detach())\n",
        "    y_fake = torch.zeros(real_imgs.size(0),1)\n",
        "    y_fake = y_fake.type_as(real_imgs)\n",
        "\n",
        "    fake_loss = self.adversarial_loss(y_hat_fake,y_fake)\n",
        "    d_loss = (real_loss + fake_loss)/2\n",
        "\n",
        "    # Manual optimization for discriminator\n",
        "    opt_d.zero_grad()\n",
        "    self.manual_backward(d_loss) # Use manual_backward to calculate gradients\n",
        "    opt_d.step()\n",
        "\n",
        "    log_dict = {\"d_loss\":d_loss}\n",
        "    # Merge the logs (you can choose how to combine them)\n",
        "    log_dict.update({\"g_loss\": g_loss})\n",
        "    return {\"loss\": d_loss, \"progress_bar\": log_dict, \"log\": log_dict} # Choose which loss to return or combine them\n",
        "\n",
        "\n",
        "  def configure_optimizers(self):\n",
        "    lr = self.hparams.lr\n",
        "    opt_g = torch.optim.Adam(self.generator.parameters(),lr=lr)\n",
        "    opt_d =  torch.optim.Adam(self.discriminator.parameters(),lr=lr)\n",
        "    return [opt_g,opt_d],[] # empty list if we use a scheduler as well?\n",
        "\n",
        "  def plot_imgs(self):\n",
        "    z = self.validation_z.type_as(self.generator.lin1.weight) # type_as function loads it into gpu?\n",
        "    sample_imgs = self(z).cpu() # if not then cpu\n",
        "\n",
        "    print('epoch',self.current_epoch)\n",
        "    fig = plt.figure()\n",
        "    for i in range(sample_imgs.size(0)):\n",
        "      plt.subplot(2,3,i+1)\n",
        "      plt.tight_layout()\n",
        "      plt.imshow(sample_imgs.detach()[i,0,:,:],cmap = 'gray_r',interpolation = 'none')\n",
        "      plt.title(\"Generated Data\")\n",
        "      plt.xticks([])\n",
        "      plt.yticks([])\n",
        "      plt.axis('off')\n",
        "    plt.show()\n",
        "\n",
        "  def on_train_epoch_end(self):\n",
        "    self.plot_imgs()"
      ],
      "metadata": {
        "id": "6LvSFp-5LuAJ"
      },
      "execution_count": null,
      "outputs": []
    },
    {
      "cell_type": "code",
      "source": [
        "dm = MNISTDataModule()\n",
        "model = GAN()\n"
      ],
      "metadata": {
        "id": "BgaTg52NcVzr"
      },
      "execution_count": null,
      "outputs": []
    },
    {
      "cell_type": "code",
      "source": [
        "model.plot_imgs()"
      ],
      "metadata": {
        "id": "s5i4KvKhcaoD"
      },
      "execution_count": null,
      "outputs": []
    },
    {
      "cell_type": "markdown",
      "source": [],
      "metadata": {
        "id": "f2Pm5NBcptwY"
      }
    },
    {
      "cell_type": "code",
      "source": [
        "trainer = pl.Trainer(max_epochs=50, devices =AVAIL_GPUS)\n",
        "trainer.fit(model,dm)"
      ],
      "metadata": {
        "id": "ZYy9o440rwjK"
      },
      "execution_count": null,
      "outputs": []
    }
  ]
}